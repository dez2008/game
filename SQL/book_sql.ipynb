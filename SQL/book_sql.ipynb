{
 "cells": [
  {
   "cell_type": "markdown",
   "metadata": {},
   "source": [
    "# Исследование рынка книг (SQL)"
   ]
  },
  {
   "cell_type": "code",
   "execution_count": 1,
   "metadata": {},
   "outputs": [],
   "source": [
    "# импортируем библиотеки\n",
    "import pandas as pd\n",
    "from sqlalchemy import create_engine\n",
    "# устанавливаем параметры\n",
    "db_config = {'user': 'praktikum_student', # имя пользователя\n",
    "        'pwd': 'Sdf4$2;d-d30pp', # пароль\n",
    "        'host': 'rc1b-wcoijxj3yxfsf3fs.mdb.yandexcloud.net',\n",
    "        'port': 6432, # порт подключения\n",
    "        'db': 'data-analyst-final-project-db'} # название базы данных\n",
    "connection_string = 'postgresql://{}:{}@{}:{}/{}'.format(db_config['user'], \n",
    "                                                         db_config['pwd'], \n",
    "                                                         db_config['host'], \n",
    "                                                         db_config['port'],\n",
    "                                                         db_config['db']) \n",
    "engine = create_engine(connection_string, connect_args={'sslmode':'require'})"
   ]
  },
  {
   "cell_type": "markdown",
   "metadata": {},
   "source": [
    "## Выведем первые строки каждой таблицы"
   ]
  },
  {
   "cell_type": "code",
   "execution_count": 2,
   "metadata": {},
   "outputs": [
    {
     "data": {
      "text/html": [
       "<div>\n",
       "<style scoped>\n",
       "    .dataframe tbody tr th:only-of-type {\n",
       "        vertical-align: middle;\n",
       "    }\n",
       "\n",
       "    .dataframe tbody tr th {\n",
       "        vertical-align: top;\n",
       "    }\n",
       "\n",
       "    .dataframe thead th {\n",
       "        text-align: right;\n",
       "    }\n",
       "</style>\n",
       "<table border=\"1\" class=\"dataframe\">\n",
       "  <thead>\n",
       "    <tr style=\"text-align: right;\">\n",
       "      <th></th>\n",
       "      <th>book_id</th>\n",
       "      <th>author_id</th>\n",
       "      <th>title</th>\n",
       "      <th>num_pages</th>\n",
       "      <th>publication_date</th>\n",
       "      <th>publisher_id</th>\n",
       "    </tr>\n",
       "  </thead>\n",
       "  <tbody>\n",
       "    <tr>\n",
       "      <td>0</td>\n",
       "      <td>1</td>\n",
       "      <td>546</td>\n",
       "      <td>'Salem's Lot</td>\n",
       "      <td>594</td>\n",
       "      <td>2005-11-01</td>\n",
       "      <td>93</td>\n",
       "    </tr>\n",
       "    <tr>\n",
       "      <td>1</td>\n",
       "      <td>2</td>\n",
       "      <td>465</td>\n",
       "      <td>1 000 Places to See Before You Die</td>\n",
       "      <td>992</td>\n",
       "      <td>2003-05-22</td>\n",
       "      <td>336</td>\n",
       "    </tr>\n",
       "    <tr>\n",
       "      <td>2</td>\n",
       "      <td>3</td>\n",
       "      <td>407</td>\n",
       "      <td>13 Little Blue Envelopes (Little Blue Envelope...</td>\n",
       "      <td>322</td>\n",
       "      <td>2010-12-21</td>\n",
       "      <td>135</td>\n",
       "    </tr>\n",
       "    <tr>\n",
       "      <td>3</td>\n",
       "      <td>4</td>\n",
       "      <td>82</td>\n",
       "      <td>1491: New Revelations of the Americas Before C...</td>\n",
       "      <td>541</td>\n",
       "      <td>2006-10-10</td>\n",
       "      <td>309</td>\n",
       "    </tr>\n",
       "    <tr>\n",
       "      <td>4</td>\n",
       "      <td>5</td>\n",
       "      <td>125</td>\n",
       "      <td>1776</td>\n",
       "      <td>386</td>\n",
       "      <td>2006-07-04</td>\n",
       "      <td>268</td>\n",
       "    </tr>\n",
       "    <tr>\n",
       "      <td>...</td>\n",
       "      <td>...</td>\n",
       "      <td>...</td>\n",
       "      <td>...</td>\n",
       "      <td>...</td>\n",
       "      <td>...</td>\n",
       "      <td>...</td>\n",
       "    </tr>\n",
       "    <tr>\n",
       "      <td>995</td>\n",
       "      <td>996</td>\n",
       "      <td>571</td>\n",
       "      <td>Wyrd Sisters (Discworld  #6; Witches #2)</td>\n",
       "      <td>265</td>\n",
       "      <td>2001-02-06</td>\n",
       "      <td>147</td>\n",
       "    </tr>\n",
       "    <tr>\n",
       "      <td>996</td>\n",
       "      <td>997</td>\n",
       "      <td>454</td>\n",
       "      <td>Xenocide (Ender's Saga  #3)</td>\n",
       "      <td>592</td>\n",
       "      <td>1996-07-15</td>\n",
       "      <td>297</td>\n",
       "    </tr>\n",
       "    <tr>\n",
       "      <td>997</td>\n",
       "      <td>998</td>\n",
       "      <td>201</td>\n",
       "      <td>Year of Wonders</td>\n",
       "      <td>358</td>\n",
       "      <td>2002-04-30</td>\n",
       "      <td>212</td>\n",
       "    </tr>\n",
       "    <tr>\n",
       "      <td>998</td>\n",
       "      <td>999</td>\n",
       "      <td>94</td>\n",
       "      <td>You Suck (A Love Story  #2)</td>\n",
       "      <td>328</td>\n",
       "      <td>2007-01-16</td>\n",
       "      <td>331</td>\n",
       "    </tr>\n",
       "    <tr>\n",
       "      <td>999</td>\n",
       "      <td>1000</td>\n",
       "      <td>509</td>\n",
       "      <td>Zen and the Art of Motorcycle Maintenance: An ...</td>\n",
       "      <td>540</td>\n",
       "      <td>2006-04-25</td>\n",
       "      <td>143</td>\n",
       "    </tr>\n",
       "  </tbody>\n",
       "</table>\n",
       "<p>1000 rows × 6 columns</p>\n",
       "</div>"
      ],
      "text/plain": [
       "     book_id  author_id                                              title  \\\n",
       "0          1        546                                       'Salem's Lot   \n",
       "1          2        465                 1 000 Places to See Before You Die   \n",
       "2          3        407  13 Little Blue Envelopes (Little Blue Envelope...   \n",
       "3          4         82  1491: New Revelations of the Americas Before C...   \n",
       "4          5        125                                               1776   \n",
       "..       ...        ...                                                ...   \n",
       "995      996        571           Wyrd Sisters (Discworld  #6; Witches #2)   \n",
       "996      997        454                        Xenocide (Ender's Saga  #3)   \n",
       "997      998        201                                    Year of Wonders   \n",
       "998      999         94                        You Suck (A Love Story  #2)   \n",
       "999     1000        509  Zen and the Art of Motorcycle Maintenance: An ...   \n",
       "\n",
       "     num_pages publication_date  publisher_id  \n",
       "0          594       2005-11-01            93  \n",
       "1          992       2003-05-22           336  \n",
       "2          322       2010-12-21           135  \n",
       "3          541       2006-10-10           309  \n",
       "4          386       2006-07-04           268  \n",
       "..         ...              ...           ...  \n",
       "995        265       2001-02-06           147  \n",
       "996        592       1996-07-15           297  \n",
       "997        358       2002-04-30           212  \n",
       "998        328       2007-01-16           331  \n",
       "999        540       2006-04-25           143  \n",
       "\n",
       "[1000 rows x 6 columns]"
      ]
     },
     "execution_count": 2,
     "metadata": {},
     "output_type": "execute_result"
    }
   ],
   "source": [
    "books = ''' \n",
    "SELECT \n",
    "    * \n",
    "FROM \n",
    "    books \n",
    "---LIMIT 5\n",
    "'''\n",
    "pd.io.sql.read_sql(books, con = engine)"
   ]
  },
  {
   "cell_type": "code",
   "execution_count": 3,
   "metadata": {},
   "outputs": [
    {
     "data": {
      "text/html": [
       "<div>\n",
       "<style scoped>\n",
       "    .dataframe tbody tr th:only-of-type {\n",
       "        vertical-align: middle;\n",
       "    }\n",
       "\n",
       "    .dataframe tbody tr th {\n",
       "        vertical-align: top;\n",
       "    }\n",
       "\n",
       "    .dataframe thead th {\n",
       "        text-align: right;\n",
       "    }\n",
       "</style>\n",
       "<table border=\"1\" class=\"dataframe\">\n",
       "  <thead>\n",
       "    <tr style=\"text-align: right;\">\n",
       "      <th></th>\n",
       "      <th>author_id</th>\n",
       "      <th>author</th>\n",
       "    </tr>\n",
       "  </thead>\n",
       "  <tbody>\n",
       "    <tr>\n",
       "      <td>0</td>\n",
       "      <td>1</td>\n",
       "      <td>A.S. Byatt</td>\n",
       "    </tr>\n",
       "    <tr>\n",
       "      <td>1</td>\n",
       "      <td>2</td>\n",
       "      <td>Aesop/Laura Harris/Laura Gibbs</td>\n",
       "    </tr>\n",
       "    <tr>\n",
       "      <td>2</td>\n",
       "      <td>3</td>\n",
       "      <td>Agatha Christie</td>\n",
       "    </tr>\n",
       "    <tr>\n",
       "      <td>3</td>\n",
       "      <td>4</td>\n",
       "      <td>Alan Brennert</td>\n",
       "    </tr>\n",
       "    <tr>\n",
       "      <td>4</td>\n",
       "      <td>5</td>\n",
       "      <td>Alan Moore/David   Lloyd</td>\n",
       "    </tr>\n",
       "    <tr>\n",
       "      <td>...</td>\n",
       "      <td>...</td>\n",
       "      <td>...</td>\n",
       "    </tr>\n",
       "    <tr>\n",
       "      <td>631</td>\n",
       "      <td>632</td>\n",
       "      <td>William Strunk Jr./E.B. White</td>\n",
       "    </tr>\n",
       "    <tr>\n",
       "      <td>632</td>\n",
       "      <td>633</td>\n",
       "      <td>Zadie Smith</td>\n",
       "    </tr>\n",
       "    <tr>\n",
       "      <td>633</td>\n",
       "      <td>634</td>\n",
       "      <td>Zilpha Keatley Snyder</td>\n",
       "    </tr>\n",
       "    <tr>\n",
       "      <td>634</td>\n",
       "      <td>635</td>\n",
       "      <td>Zora Neale Hurston</td>\n",
       "    </tr>\n",
       "    <tr>\n",
       "      <td>635</td>\n",
       "      <td>636</td>\n",
       "      <td>Åsne Seierstad/Ingrid Christopherson</td>\n",
       "    </tr>\n",
       "  </tbody>\n",
       "</table>\n",
       "<p>636 rows × 2 columns</p>\n",
       "</div>"
      ],
      "text/plain": [
       "     author_id                                author\n",
       "0            1                            A.S. Byatt\n",
       "1            2        Aesop/Laura Harris/Laura Gibbs\n",
       "2            3                       Agatha Christie\n",
       "3            4                         Alan Brennert\n",
       "4            5              Alan Moore/David   Lloyd\n",
       "..         ...                                   ...\n",
       "631        632         William Strunk Jr./E.B. White\n",
       "632        633                           Zadie Smith\n",
       "633        634                 Zilpha Keatley Snyder\n",
       "634        635                    Zora Neale Hurston\n",
       "635        636  Åsne Seierstad/Ingrid Christopherson\n",
       "\n",
       "[636 rows x 2 columns]"
      ]
     },
     "execution_count": 3,
     "metadata": {},
     "output_type": "execute_result"
    }
   ],
   "source": [
    "authors = ''' \n",
    "SELECT \n",
    "    * \n",
    "FROM \n",
    "    authors \n",
    "\n",
    "'''\n",
    "pd.io.sql.read_sql(authors, con = engine)"
   ]
  },
  {
   "cell_type": "code",
   "execution_count": 4,
   "metadata": {},
   "outputs": [
    {
     "data": {
      "text/html": [
       "<div>\n",
       "<style scoped>\n",
       "    .dataframe tbody tr th:only-of-type {\n",
       "        vertical-align: middle;\n",
       "    }\n",
       "\n",
       "    .dataframe tbody tr th {\n",
       "        vertical-align: top;\n",
       "    }\n",
       "\n",
       "    .dataframe thead th {\n",
       "        text-align: right;\n",
       "    }\n",
       "</style>\n",
       "<table border=\"1\" class=\"dataframe\">\n",
       "  <thead>\n",
       "    <tr style=\"text-align: right;\">\n",
       "      <th></th>\n",
       "      <th>publisher_id</th>\n",
       "      <th>publisher</th>\n",
       "    </tr>\n",
       "  </thead>\n",
       "  <tbody>\n",
       "    <tr>\n",
       "      <td>0</td>\n",
       "      <td>1</td>\n",
       "      <td>Ace</td>\n",
       "    </tr>\n",
       "    <tr>\n",
       "      <td>1</td>\n",
       "      <td>2</td>\n",
       "      <td>Ace Book</td>\n",
       "    </tr>\n",
       "    <tr>\n",
       "      <td>2</td>\n",
       "      <td>3</td>\n",
       "      <td>Ace Books</td>\n",
       "    </tr>\n",
       "    <tr>\n",
       "      <td>3</td>\n",
       "      <td>4</td>\n",
       "      <td>Ace Hardcover</td>\n",
       "    </tr>\n",
       "    <tr>\n",
       "      <td>4</td>\n",
       "      <td>5</td>\n",
       "      <td>Addison Wesley Publishing Company</td>\n",
       "    </tr>\n",
       "    <tr>\n",
       "      <td>...</td>\n",
       "      <td>...</td>\n",
       "      <td>...</td>\n",
       "    </tr>\n",
       "    <tr>\n",
       "      <td>335</td>\n",
       "      <td>336</td>\n",
       "      <td>Workman Publishing Company</td>\n",
       "    </tr>\n",
       "    <tr>\n",
       "      <td>336</td>\n",
       "      <td>337</td>\n",
       "      <td>Wyatt Book</td>\n",
       "    </tr>\n",
       "    <tr>\n",
       "      <td>337</td>\n",
       "      <td>338</td>\n",
       "      <td>Yale University Press</td>\n",
       "    </tr>\n",
       "    <tr>\n",
       "      <td>338</td>\n",
       "      <td>339</td>\n",
       "      <td>Yearling</td>\n",
       "    </tr>\n",
       "    <tr>\n",
       "      <td>339</td>\n",
       "      <td>340</td>\n",
       "      <td>Yearling Books</td>\n",
       "    </tr>\n",
       "  </tbody>\n",
       "</table>\n",
       "<p>340 rows × 2 columns</p>\n",
       "</div>"
      ],
      "text/plain": [
       "     publisher_id                          publisher\n",
       "0               1                                Ace\n",
       "1               2                           Ace Book\n",
       "2               3                          Ace Books\n",
       "3               4                      Ace Hardcover\n",
       "4               5  Addison Wesley Publishing Company\n",
       "..            ...                                ...\n",
       "335           336         Workman Publishing Company\n",
       "336           337                         Wyatt Book\n",
       "337           338              Yale University Press\n",
       "338           339                           Yearling\n",
       "339           340                     Yearling Books\n",
       "\n",
       "[340 rows x 2 columns]"
      ]
     },
     "execution_count": 4,
     "metadata": {},
     "output_type": "execute_result"
    }
   ],
   "source": [
    "publishers = ''' \n",
    "SELECT \n",
    "    * \n",
    "FROM \n",
    "    publishers \n",
    "\n",
    "'''\n",
    "pd.io.sql.read_sql(publishers, con = engine)"
   ]
  },
  {
   "cell_type": "code",
   "execution_count": 5,
   "metadata": {},
   "outputs": [
    {
     "data": {
      "text/html": [
       "<div>\n",
       "<style scoped>\n",
       "    .dataframe tbody tr th:only-of-type {\n",
       "        vertical-align: middle;\n",
       "    }\n",
       "\n",
       "    .dataframe tbody tr th {\n",
       "        vertical-align: top;\n",
       "    }\n",
       "\n",
       "    .dataframe thead th {\n",
       "        text-align: right;\n",
       "    }\n",
       "</style>\n",
       "<table border=\"1\" class=\"dataframe\">\n",
       "  <thead>\n",
       "    <tr style=\"text-align: right;\">\n",
       "      <th></th>\n",
       "      <th>rating_id</th>\n",
       "      <th>book_id</th>\n",
       "      <th>username</th>\n",
       "      <th>rating</th>\n",
       "    </tr>\n",
       "  </thead>\n",
       "  <tbody>\n",
       "    <tr>\n",
       "      <td>0</td>\n",
       "      <td>1</td>\n",
       "      <td>1</td>\n",
       "      <td>ryanfranco</td>\n",
       "      <td>4</td>\n",
       "    </tr>\n",
       "    <tr>\n",
       "      <td>1</td>\n",
       "      <td>2</td>\n",
       "      <td>1</td>\n",
       "      <td>grantpatricia</td>\n",
       "      <td>2</td>\n",
       "    </tr>\n",
       "    <tr>\n",
       "      <td>2</td>\n",
       "      <td>3</td>\n",
       "      <td>1</td>\n",
       "      <td>brandtandrea</td>\n",
       "      <td>5</td>\n",
       "    </tr>\n",
       "    <tr>\n",
       "      <td>3</td>\n",
       "      <td>4</td>\n",
       "      <td>2</td>\n",
       "      <td>lorichen</td>\n",
       "      <td>3</td>\n",
       "    </tr>\n",
       "    <tr>\n",
       "      <td>4</td>\n",
       "      <td>5</td>\n",
       "      <td>2</td>\n",
       "      <td>mariokeller</td>\n",
       "      <td>2</td>\n",
       "    </tr>\n",
       "    <tr>\n",
       "      <td>...</td>\n",
       "      <td>...</td>\n",
       "      <td>...</td>\n",
       "      <td>...</td>\n",
       "      <td>...</td>\n",
       "    </tr>\n",
       "    <tr>\n",
       "      <td>6451</td>\n",
       "      <td>6452</td>\n",
       "      <td>1000</td>\n",
       "      <td>carolrodriguez</td>\n",
       "      <td>4</td>\n",
       "    </tr>\n",
       "    <tr>\n",
       "      <td>6452</td>\n",
       "      <td>6453</td>\n",
       "      <td>1000</td>\n",
       "      <td>wendy18</td>\n",
       "      <td>4</td>\n",
       "    </tr>\n",
       "    <tr>\n",
       "      <td>6453</td>\n",
       "      <td>6454</td>\n",
       "      <td>1000</td>\n",
       "      <td>jarvispaul</td>\n",
       "      <td>5</td>\n",
       "    </tr>\n",
       "    <tr>\n",
       "      <td>6454</td>\n",
       "      <td>6455</td>\n",
       "      <td>1000</td>\n",
       "      <td>zross</td>\n",
       "      <td>2</td>\n",
       "    </tr>\n",
       "    <tr>\n",
       "      <td>6455</td>\n",
       "      <td>6456</td>\n",
       "      <td>1000</td>\n",
       "      <td>fharris</td>\n",
       "      <td>5</td>\n",
       "    </tr>\n",
       "  </tbody>\n",
       "</table>\n",
       "<p>6456 rows × 4 columns</p>\n",
       "</div>"
      ],
      "text/plain": [
       "      rating_id  book_id        username  rating\n",
       "0             1        1      ryanfranco       4\n",
       "1             2        1   grantpatricia       2\n",
       "2             3        1    brandtandrea       5\n",
       "3             4        2        lorichen       3\n",
       "4             5        2     mariokeller       2\n",
       "...         ...      ...             ...     ...\n",
       "6451       6452     1000  carolrodriguez       4\n",
       "6452       6453     1000         wendy18       4\n",
       "6453       6454     1000      jarvispaul       5\n",
       "6454       6455     1000           zross       2\n",
       "6455       6456     1000         fharris       5\n",
       "\n",
       "[6456 rows x 4 columns]"
      ]
     },
     "execution_count": 5,
     "metadata": {},
     "output_type": "execute_result"
    }
   ],
   "source": [
    "ratings = ''' \n",
    "SELECT \n",
    "    * \n",
    "FROM \n",
    "    ratings \n",
    "\n",
    "'''\n",
    "pd.io.sql.read_sql(ratings, con = engine)"
   ]
  },
  {
   "cell_type": "code",
   "execution_count": 6,
   "metadata": {},
   "outputs": [
    {
     "data": {
      "text/html": [
       "<div>\n",
       "<style scoped>\n",
       "    .dataframe tbody tr th:only-of-type {\n",
       "        vertical-align: middle;\n",
       "    }\n",
       "\n",
       "    .dataframe tbody tr th {\n",
       "        vertical-align: top;\n",
       "    }\n",
       "\n",
       "    .dataframe thead th {\n",
       "        text-align: right;\n",
       "    }\n",
       "</style>\n",
       "<table border=\"1\" class=\"dataframe\">\n",
       "  <thead>\n",
       "    <tr style=\"text-align: right;\">\n",
       "      <th></th>\n",
       "      <th>review_id</th>\n",
       "      <th>book_id</th>\n",
       "      <th>username</th>\n",
       "      <th>text</th>\n",
       "    </tr>\n",
       "  </thead>\n",
       "  <tbody>\n",
       "    <tr>\n",
       "      <td>0</td>\n",
       "      <td>1</td>\n",
       "      <td>1</td>\n",
       "      <td>brandtandrea</td>\n",
       "      <td>Mention society tell send professor analysis. ...</td>\n",
       "    </tr>\n",
       "    <tr>\n",
       "      <td>1</td>\n",
       "      <td>2</td>\n",
       "      <td>1</td>\n",
       "      <td>ryanfranco</td>\n",
       "      <td>Foot glass pretty audience hit themselves. Amo...</td>\n",
       "    </tr>\n",
       "    <tr>\n",
       "      <td>2</td>\n",
       "      <td>3</td>\n",
       "      <td>2</td>\n",
       "      <td>lorichen</td>\n",
       "      <td>Listen treat keep worry. Miss husband tax but ...</td>\n",
       "    </tr>\n",
       "    <tr>\n",
       "      <td>3</td>\n",
       "      <td>4</td>\n",
       "      <td>3</td>\n",
       "      <td>johnsonamanda</td>\n",
       "      <td>Finally month interesting blue could nature cu...</td>\n",
       "    </tr>\n",
       "    <tr>\n",
       "      <td>4</td>\n",
       "      <td>5</td>\n",
       "      <td>3</td>\n",
       "      <td>scotttamara</td>\n",
       "      <td>Nation purpose heavy give wait song will. List...</td>\n",
       "    </tr>\n",
       "    <tr>\n",
       "      <td>...</td>\n",
       "      <td>...</td>\n",
       "      <td>...</td>\n",
       "      <td>...</td>\n",
       "      <td>...</td>\n",
       "    </tr>\n",
       "    <tr>\n",
       "      <td>2788</td>\n",
       "      <td>2789</td>\n",
       "      <td>999</td>\n",
       "      <td>martinadam</td>\n",
       "      <td>Later hospital turn easy community. Fact same ...</td>\n",
       "    </tr>\n",
       "    <tr>\n",
       "      <td>2789</td>\n",
       "      <td>2790</td>\n",
       "      <td>1000</td>\n",
       "      <td>wknight</td>\n",
       "      <td>Change lose answer close pressure. Spend so now.</td>\n",
       "    </tr>\n",
       "    <tr>\n",
       "      <td>2790</td>\n",
       "      <td>2791</td>\n",
       "      <td>1000</td>\n",
       "      <td>carolrodriguez</td>\n",
       "      <td>Authority go who television entire hair guy po...</td>\n",
       "    </tr>\n",
       "    <tr>\n",
       "      <td>2791</td>\n",
       "      <td>2792</td>\n",
       "      <td>1000</td>\n",
       "      <td>wendy18</td>\n",
       "      <td>Or western offer wonder ask. More hear phone f...</td>\n",
       "    </tr>\n",
       "    <tr>\n",
       "      <td>2792</td>\n",
       "      <td>2793</td>\n",
       "      <td>1000</td>\n",
       "      <td>jarvispaul</td>\n",
       "      <td>Republican staff bit eat material measure plan...</td>\n",
       "    </tr>\n",
       "  </tbody>\n",
       "</table>\n",
       "<p>2793 rows × 4 columns</p>\n",
       "</div>"
      ],
      "text/plain": [
       "      review_id  book_id        username  \\\n",
       "0             1        1    brandtandrea   \n",
       "1             2        1      ryanfranco   \n",
       "2             3        2        lorichen   \n",
       "3             4        3   johnsonamanda   \n",
       "4             5        3     scotttamara   \n",
       "...         ...      ...             ...   \n",
       "2788       2789      999      martinadam   \n",
       "2789       2790     1000         wknight   \n",
       "2790       2791     1000  carolrodriguez   \n",
       "2791       2792     1000         wendy18   \n",
       "2792       2793     1000      jarvispaul   \n",
       "\n",
       "                                                   text  \n",
       "0     Mention society tell send professor analysis. ...  \n",
       "1     Foot glass pretty audience hit themselves. Amo...  \n",
       "2     Listen treat keep worry. Miss husband tax but ...  \n",
       "3     Finally month interesting blue could nature cu...  \n",
       "4     Nation purpose heavy give wait song will. List...  \n",
       "...                                                 ...  \n",
       "2788  Later hospital turn easy community. Fact same ...  \n",
       "2789   Change lose answer close pressure. Spend so now.  \n",
       "2790  Authority go who television entire hair guy po...  \n",
       "2791  Or western offer wonder ask. More hear phone f...  \n",
       "2792  Republican staff bit eat material measure plan...  \n",
       "\n",
       "[2793 rows x 4 columns]"
      ]
     },
     "execution_count": 6,
     "metadata": {},
     "output_type": "execute_result"
    }
   ],
   "source": [
    "reviews = ''' \n",
    "SELECT \n",
    "    * \n",
    "FROM \n",
    "    reviews \n",
    "\n",
    "'''\n",
    "pd.io.sql.read_sql(reviews, con = engine)"
   ]
  },
  {
   "cell_type": "markdown",
   "metadata": {},
   "source": [
    "Всего в датасете books представлено 1000 книг, в authors 636 авторов, в publishers 340 издателей, в ratings 6456 оценок и в reviews 2793 ревью от пользователей."
   ]
  },
  {
   "cell_type": "markdown",
   "metadata": {},
   "source": [
    "## Посчитаем, сколько книг вышло после 1 января 2000 года"
   ]
  },
  {
   "cell_type": "code",
   "execution_count": 7,
   "metadata": {},
   "outputs": [
    {
     "data": {
      "text/html": [
       "<div>\n",
       "<style scoped>\n",
       "    .dataframe tbody tr th:only-of-type {\n",
       "        vertical-align: middle;\n",
       "    }\n",
       "\n",
       "    .dataframe tbody tr th {\n",
       "        vertical-align: top;\n",
       "    }\n",
       "\n",
       "    .dataframe thead th {\n",
       "        text-align: right;\n",
       "    }\n",
       "</style>\n",
       "<table border=\"1\" class=\"dataframe\">\n",
       "  <thead>\n",
       "    <tr style=\"text-align: right;\">\n",
       "      <th></th>\n",
       "      <th>cnt</th>\n",
       "    </tr>\n",
       "  </thead>\n",
       "  <tbody>\n",
       "    <tr>\n",
       "      <td>0</td>\n",
       "      <td>819</td>\n",
       "    </tr>\n",
       "  </tbody>\n",
       "</table>\n",
       "</div>"
      ],
      "text/plain": [
       "   cnt\n",
       "0  819"
      ]
     },
     "execution_count": 7,
     "metadata": {},
     "output_type": "execute_result"
    }
   ],
   "source": [
    "books_count = ''' \n",
    "SELECT \n",
    "    COUNT(*) AS cnt \n",
    "FROM \n",
    "    books \n",
    "WHERE\n",
    "    publication_date > '2000-01-01'\n",
    "'''\n",
    "pd.io.sql.read_sql(books_count, con = engine)"
   ]
  },
  {
   "cell_type": "markdown",
   "metadata": {},
   "source": [
    "После 1 января 2000 года вышло 819 книг, что является подавляющим большинством из нашей библиотеки."
   ]
  },
  {
   "cell_type": "markdown",
   "metadata": {},
   "source": [
    "## Посчитаем для каждой книги количество обзоров и среднюю оценку"
   ]
  },
  {
   "cell_type": "code",
   "execution_count": 61,
   "metadata": {},
   "outputs": [
    {
     "data": {
      "text/html": [
       "<div>\n",
       "<style scoped>\n",
       "    .dataframe tbody tr th:only-of-type {\n",
       "        vertical-align: middle;\n",
       "    }\n",
       "\n",
       "    .dataframe tbody tr th {\n",
       "        vertical-align: top;\n",
       "    }\n",
       "\n",
       "    .dataframe thead th {\n",
       "        text-align: right;\n",
       "    }\n",
       "</style>\n",
       "<table border=\"1\" class=\"dataframe\">\n",
       "  <thead>\n",
       "    <tr style=\"text-align: right;\">\n",
       "      <th></th>\n",
       "      <th>title</th>\n",
       "      <th>reviews_cnt</th>\n",
       "      <th>avg_rating</th>\n",
       "    </tr>\n",
       "  </thead>\n",
       "  <tbody>\n",
       "    <tr>\n",
       "      <td>0</td>\n",
       "      <td>Memoirs of a Geisha</td>\n",
       "      <td>8</td>\n",
       "      <td>4.138462</td>\n",
       "    </tr>\n",
       "    <tr>\n",
       "      <td>1</td>\n",
       "      <td>Twilight (Twilight  #1)</td>\n",
       "      <td>7</td>\n",
       "      <td>3.662500</td>\n",
       "    </tr>\n",
       "    <tr>\n",
       "      <td>2</td>\n",
       "      <td>Harry Potter and the Chamber of Secrets (Harry...</td>\n",
       "      <td>6</td>\n",
       "      <td>4.287500</td>\n",
       "    </tr>\n",
       "    <tr>\n",
       "      <td>3</td>\n",
       "      <td>The Glass Castle</td>\n",
       "      <td>6</td>\n",
       "      <td>4.206897</td>\n",
       "    </tr>\n",
       "    <tr>\n",
       "      <td>4</td>\n",
       "      <td>Eat  Pray  Love</td>\n",
       "      <td>6</td>\n",
       "      <td>3.395833</td>\n",
       "    </tr>\n",
       "    <tr>\n",
       "      <td>...</td>\n",
       "      <td>...</td>\n",
       "      <td>...</td>\n",
       "      <td>...</td>\n",
       "    </tr>\n",
       "    <tr>\n",
       "      <td>994</td>\n",
       "      <td>Anne Rice's The Vampire Lestat: A Graphic Novel</td>\n",
       "      <td>0</td>\n",
       "      <td>3.666667</td>\n",
       "    </tr>\n",
       "    <tr>\n",
       "      <td>995</td>\n",
       "      <td>The Natural Way to Draw</td>\n",
       "      <td>0</td>\n",
       "      <td>3.000000</td>\n",
       "    </tr>\n",
       "    <tr>\n",
       "      <td>996</td>\n",
       "      <td>The Cat in the Hat and Other Dr. Seuss Favorites</td>\n",
       "      <td>0</td>\n",
       "      <td>5.000000</td>\n",
       "    </tr>\n",
       "    <tr>\n",
       "      <td>997</td>\n",
       "      <td>Essential Tales and Poems</td>\n",
       "      <td>0</td>\n",
       "      <td>4.000000</td>\n",
       "    </tr>\n",
       "    <tr>\n",
       "      <td>998</td>\n",
       "      <td>Disney's Beauty and the Beast (A Little Golden...</td>\n",
       "      <td>0</td>\n",
       "      <td>4.000000</td>\n",
       "    </tr>\n",
       "  </tbody>\n",
       "</table>\n",
       "<p>999 rows × 3 columns</p>\n",
       "</div>"
      ],
      "text/plain": [
       "                                                 title  reviews_cnt  \\\n",
       "0                                  Memoirs of a Geisha            8   \n",
       "1                              Twilight (Twilight  #1)            7   \n",
       "2    Harry Potter and the Chamber of Secrets (Harry...            6   \n",
       "3                                     The Glass Castle            6   \n",
       "4                                      Eat  Pray  Love            6   \n",
       "..                                                 ...          ...   \n",
       "994    Anne Rice's The Vampire Lestat: A Graphic Novel            0   \n",
       "995                            The Natural Way to Draw            0   \n",
       "996   The Cat in the Hat and Other Dr. Seuss Favorites            0   \n",
       "997                          Essential Tales and Poems            0   \n",
       "998  Disney's Beauty and the Beast (A Little Golden...            0   \n",
       "\n",
       "     avg_rating  \n",
       "0      4.138462  \n",
       "1      3.662500  \n",
       "2      4.287500  \n",
       "3      4.206897  \n",
       "4      3.395833  \n",
       "..          ...  \n",
       "994    3.666667  \n",
       "995    3.000000  \n",
       "996    5.000000  \n",
       "997    4.000000  \n",
       "998    4.000000  \n",
       "\n",
       "[999 rows x 3 columns]"
      ]
     },
     "execution_count": 61,
     "metadata": {},
     "output_type": "execute_result"
    }
   ],
   "source": [
    "books_rat_rew = ''' \n",
    "SELECT \n",
    "    title,\n",
    "    COUNT(DISTINCT review_id) AS reviews_cnt,\n",
    "    AVG(rating) AS avg_rating \n",
    "FROM \n",
    "    books \n",
    "    LEFT OUTER JOIN reviews on reviews.book_id = books.book_id\n",
    "    INNER JOIN ratings on ratings.book_id = books.book_id\n",
    "GROUP BY\n",
    "    title\n",
    "ORDER BY\n",
    "    reviews_cnt DESC\n",
    "'''\n",
    "pd.io.sql.read_sql(books_rat_rew, con = engine)"
   ]
  },
  {
   "cell_type": "markdown",
   "metadata": {},
   "source": [
    "993 книги имеют обзоры (7 книг из нашего датасета их не имеют), лидером по их количеству является - Memoirs of a Geisha."
   ]
  },
  {
   "cell_type": "markdown",
   "metadata": {},
   "source": [
    "## Определим издательство, которое выпустило наибольшее число книг толще 50 страниц;"
   ]
  },
  {
   "cell_type": "code",
   "execution_count": 9,
   "metadata": {},
   "outputs": [
    {
     "data": {
      "text/html": [
       "<div>\n",
       "<style scoped>\n",
       "    .dataframe tbody tr th:only-of-type {\n",
       "        vertical-align: middle;\n",
       "    }\n",
       "\n",
       "    .dataframe tbody tr th {\n",
       "        vertical-align: top;\n",
       "    }\n",
       "\n",
       "    .dataframe thead th {\n",
       "        text-align: right;\n",
       "    }\n",
       "</style>\n",
       "<table border=\"1\" class=\"dataframe\">\n",
       "  <thead>\n",
       "    <tr style=\"text-align: right;\">\n",
       "      <th></th>\n",
       "      <th>publisher</th>\n",
       "      <th>book_cnt</th>\n",
       "    </tr>\n",
       "  </thead>\n",
       "  <tbody>\n",
       "    <tr>\n",
       "      <td>0</td>\n",
       "      <td>Penguin Books</td>\n",
       "      <td>42</td>\n",
       "    </tr>\n",
       "  </tbody>\n",
       "</table>\n",
       "</div>"
      ],
      "text/plain": [
       "       publisher  book_cnt\n",
       "0  Penguin Books        42"
      ]
     },
     "execution_count": 9,
     "metadata": {},
     "output_type": "execute_result"
    }
   ],
   "source": [
    "books_publisher = ''' \n",
    "SELECT \n",
    "    publisher,\n",
    "    COUNT(title) AS book_cnt\n",
    "FROM \n",
    "    books \n",
    "    INNER JOIN publishers on publishers.publisher_id = books.publisher_id\n",
    "WHERE\n",
    "    num_pages > 50\n",
    "GROUP BY\n",
    "    publisher\n",
    "ORDER BY\n",
    "    book_cnt DESC\n",
    "LIMIT 1\n",
    "'''\n",
    "pd.io.sql.read_sql(books_publisher, con = engine)"
   ]
  },
  {
   "cell_type": "markdown",
   "metadata": {},
   "source": [
    "Лидером среди издательств по количеству книг (за вычетом брошюр) является - Penguin Books, с 42 книгами."
   ]
  },
  {
   "cell_type": "markdown",
   "metadata": {},
   "source": [
    "## Определим автора с самой высокой средней оценкой книг, учитывая только книги с 50 и более оценками"
   ]
  },
  {
   "cell_type": "code",
   "execution_count": 10,
   "metadata": {},
   "outputs": [
    {
     "data": {
      "text/html": [
       "<div>\n",
       "<style scoped>\n",
       "    .dataframe tbody tr th:only-of-type {\n",
       "        vertical-align: middle;\n",
       "    }\n",
       "\n",
       "    .dataframe tbody tr th {\n",
       "        vertical-align: top;\n",
       "    }\n",
       "\n",
       "    .dataframe thead th {\n",
       "        text-align: right;\n",
       "    }\n",
       "</style>\n",
       "<table border=\"1\" class=\"dataframe\">\n",
       "  <thead>\n",
       "    <tr style=\"text-align: right;\">\n",
       "      <th></th>\n",
       "      <th>author</th>\n",
       "      <th>average</th>\n",
       "      <th>rating_cnt</th>\n",
       "    </tr>\n",
       "  </thead>\n",
       "  <tbody>\n",
       "    <tr>\n",
       "      <td>0</td>\n",
       "      <td>J.K. Rowling/Mary GrandPré</td>\n",
       "      <td>4.288462</td>\n",
       "      <td>312</td>\n",
       "    </tr>\n",
       "    <tr>\n",
       "      <td>1</td>\n",
       "      <td>Agatha Christie</td>\n",
       "      <td>4.283019</td>\n",
       "      <td>53</td>\n",
       "    </tr>\n",
       "    <tr>\n",
       "      <td>2</td>\n",
       "      <td>Markus Zusak/Cao Xuân Việt Khương</td>\n",
       "      <td>4.264151</td>\n",
       "      <td>53</td>\n",
       "    </tr>\n",
       "    <tr>\n",
       "      <td>3</td>\n",
       "      <td>J.R.R. Tolkien</td>\n",
       "      <td>4.240964</td>\n",
       "      <td>166</td>\n",
       "    </tr>\n",
       "    <tr>\n",
       "      <td>4</td>\n",
       "      <td>Roald Dahl/Quentin Blake</td>\n",
       "      <td>4.209677</td>\n",
       "      <td>62</td>\n",
       "    </tr>\n",
       "  </tbody>\n",
       "</table>\n",
       "</div>"
      ],
      "text/plain": [
       "                              author   average  rating_cnt\n",
       "0         J.K. Rowling/Mary GrandPré  4.288462         312\n",
       "1                    Agatha Christie  4.283019          53\n",
       "2  Markus Zusak/Cao Xuân Việt Khương  4.264151          53\n",
       "3                     J.R.R. Tolkien  4.240964         166\n",
       "4           Roald Dahl/Quentin Blake  4.209677          62"
      ]
     },
     "execution_count": 10,
     "metadata": {},
     "output_type": "execute_result"
    }
   ],
   "source": [
    "books_authors = ''' \n",
    "SELECT \n",
    "    authors.author,\n",
    "    AVG(ratings.rating) AS average,\n",
    "    COUNT(ratings.rating) AS rating_cnt\n",
    "FROM \n",
    "    books \n",
    "    INNER JOIN authors on authors.author_id = books.author_id\n",
    "    INNER JOIN ratings on ratings.book_id = books.book_id\n",
    "\n",
    "GROUP BY\n",
    "    authors.author\n",
    "HAVING\n",
    "    COUNT(ratings.rating) > 50\n",
    "ORDER BY\n",
    "    average DESC\n",
    "LIMIT 5\n",
    "'''\n",
    "pd.io.sql.read_sql(books_authors, con = engine)"
   ]
  },
  {
   "cell_type": "markdown",
   "metadata": {},
   "source": [
    "Самая высокая оценка у автора Гарри Поттера, Д. Роулинг. Самое большое количество оценка также принадлежит ей."
   ]
  },
  {
   "cell_type": "markdown",
   "metadata": {},
   "source": [
    "## Посчитаем среднее количество обзоров от пользователей, которые поставили больше 50 оценок"
   ]
  },
  {
   "cell_type": "code",
   "execution_count": 85,
   "metadata": {},
   "outputs": [
    {
     "data": {
      "text/html": [
       "<div>\n",
       "<style scoped>\n",
       "    .dataframe tbody tr th:only-of-type {\n",
       "        vertical-align: middle;\n",
       "    }\n",
       "\n",
       "    .dataframe tbody tr th {\n",
       "        vertical-align: top;\n",
       "    }\n",
       "\n",
       "    .dataframe thead th {\n",
       "        text-align: right;\n",
       "    }\n",
       "</style>\n",
       "<table border=\"1\" class=\"dataframe\">\n",
       "  <thead>\n",
       "    <tr style=\"text-align: right;\">\n",
       "      <th></th>\n",
       "      <th>avg_count_review</th>\n",
       "    </tr>\n",
       "  </thead>\n",
       "  <tbody>\n",
       "    <tr>\n",
       "      <td>0</td>\n",
       "      <td>24.333333</td>\n",
       "    </tr>\n",
       "  </tbody>\n",
       "</table>\n",
       "</div>"
      ],
      "text/plain": [
       "   avg_count_review\n",
       "0         24.333333"
      ]
     },
     "execution_count": 85,
     "metadata": {},
     "output_type": "execute_result"
    }
   ],
   "source": [
    "ratings_reviews = ''' \n",
    "SELECT \n",
    "    AVG(SUB.count_review) AS avg_count_review\n",
    "FROM (\n",
    "    SELECT\n",
    "        username,\n",
    "        COUNT(text) AS count_review\n",
    "    FROM\n",
    "        reviews\n",
    "    GROUP BY\n",
    "        username) \n",
    "    AS Sub \n",
    "    INNER JOIN (SELECT\n",
    "        username,\n",
    "        COUNT(ratings) AS count_ratings\n",
    "    FROM\n",
    "        ratings\n",
    "    GROUP BY\n",
    "        username\n",
    "    HAVING\n",
    "        COUNT(ratings) > 50\n",
    "    ORDER BY\n",
    "        count_ratings DESC) AS Sub2 on Sub2.username = Sub.username\n",
    "'''\n",
    "pd.io.sql.read_sql(ratings_reviews, con = engine)"
   ]
  },
  {
   "cell_type": "markdown",
   "metadata": {},
   "source": [
    "Среднее количество обзоров от пользователей, которые поставили больше 50 оценок - 24,3. Тот кто часто стаит оценки, чаще пишет обзоры."
   ]
  }
 ],
 "metadata": {
  "ExecuteTimeLog": [
   {
    "duration": 6,
    "start_time": "2021-07-22T07:21:03.079Z"
   },
   {
    "duration": 276,
    "start_time": "2021-07-22T07:21:03.087Z"
   },
   {
    "duration": 80,
    "start_time": "2021-07-22T07:21:03.366Z"
   },
   {
    "duration": 75,
    "start_time": "2021-07-22T07:21:03.450Z"
   },
   {
    "duration": 170,
    "start_time": "2021-07-22T07:21:03.527Z"
   },
   {
    "duration": 81,
    "start_time": "2021-07-22T07:21:03.700Z"
   },
   {
    "duration": 64,
    "start_time": "2021-07-22T07:21:03.783Z"
   },
   {
    "duration": 81,
    "start_time": "2021-07-22T07:21:03.849Z"
   },
   {
    "duration": 64,
    "start_time": "2021-07-22T07:21:03.932Z"
   },
   {
    "duration": 69,
    "start_time": "2021-07-22T07:21:03.999Z"
   },
   {
    "duration": 64,
    "start_time": "2021-07-22T07:21:04.071Z"
   },
   {
    "duration": 144,
    "start_time": "2021-07-22T07:39:27.316Z"
   },
   {
    "duration": 72,
    "start_time": "2021-07-22T07:40:16.841Z"
   },
   {
    "duration": 126,
    "start_time": "2021-07-22T07:40:24.712Z"
   },
   {
    "duration": 73,
    "start_time": "2021-07-22T07:40:32.222Z"
   },
   {
    "duration": 518,
    "start_time": "2021-07-22T07:41:00.872Z"
   },
   {
    "duration": 380,
    "start_time": "2021-07-22T07:41:05.634Z"
   },
   {
    "duration": 62,
    "start_time": "2021-07-22T07:41:10.968Z"
   },
   {
    "duration": 63,
    "start_time": "2021-07-22T07:51:05.460Z"
   },
   {
    "duration": 127,
    "start_time": "2021-07-22T07:54:51.728Z"
   },
   {
    "duration": 65,
    "start_time": "2021-07-22T07:56:24.672Z"
   },
   {
    "duration": 62,
    "start_time": "2021-07-22T07:56:27.979Z"
   },
   {
    "duration": 400,
    "start_time": "2021-07-22T07:57:35.109Z"
   },
   {
    "duration": 61,
    "start_time": "2021-07-22T07:57:41.961Z"
   },
   {
    "duration": 67,
    "start_time": "2021-07-22T07:58:39.968Z"
   },
   {
    "duration": 66,
    "start_time": "2021-07-22T07:58:42.590Z"
   },
   {
    "duration": 65,
    "start_time": "2021-07-22T07:58:44.656Z"
   },
   {
    "duration": 63,
    "start_time": "2021-07-22T07:59:55.857Z"
   },
   {
    "duration": 62,
    "start_time": "2021-07-22T08:00:00.554Z"
   },
   {
    "duration": 61,
    "start_time": "2021-07-22T08:00:27.493Z"
   },
   {
    "duration": 63,
    "start_time": "2021-07-22T08:00:29.738Z"
   },
   {
    "duration": 940,
    "start_time": "2021-07-22T08:01:01.220Z"
   },
   {
    "duration": 252,
    "start_time": "2021-07-22T08:01:02.162Z"
   },
   {
    "duration": 67,
    "start_time": "2021-07-22T08:01:02.417Z"
   },
   {
    "duration": 66,
    "start_time": "2021-07-22T08:01:02.487Z"
   },
   {
    "duration": 100,
    "start_time": "2021-07-22T08:01:02.556Z"
   },
   {
    "duration": 84,
    "start_time": "2021-07-22T08:01:02.659Z"
   },
   {
    "duration": 60,
    "start_time": "2021-07-22T08:01:02.746Z"
   },
   {
    "duration": 80,
    "start_time": "2021-07-22T08:01:02.809Z"
   },
   {
    "duration": 61,
    "start_time": "2021-07-22T08:01:02.891Z"
   },
   {
    "duration": 65,
    "start_time": "2021-07-22T08:01:02.955Z"
   },
   {
    "duration": 62,
    "start_time": "2021-07-22T08:01:03.022Z"
   },
   {
    "duration": 396,
    "start_time": "2021-07-22T08:31:24.024Z"
   },
   {
    "duration": 937,
    "start_time": "2021-07-22T08:31:31.581Z"
   },
   {
    "duration": 64,
    "start_time": "2021-07-22T08:31:32.526Z"
   },
   {
    "duration": 23,
    "start_time": "2021-07-22T08:31:32.594Z"
   },
   {
    "duration": 18,
    "start_time": "2021-07-22T08:31:32.619Z"
   },
   {
    "duration": 61,
    "start_time": "2021-07-22T08:31:32.639Z"
   },
   {
    "duration": 30,
    "start_time": "2021-07-22T08:31:32.703Z"
   },
   {
    "duration": 13,
    "start_time": "2021-07-22T08:31:32.736Z"
   },
   {
    "duration": 67,
    "start_time": "2021-07-22T08:31:32.752Z"
   },
   {
    "duration": 15,
    "start_time": "2021-07-22T08:31:32.821Z"
   },
   {
    "duration": 25,
    "start_time": "2021-07-22T08:31:32.838Z"
   },
   {
    "duration": 463,
    "start_time": "2021-07-22T08:31:32.865Z"
   },
   {
    "duration": 415,
    "start_time": "2021-07-22T08:33:40.783Z"
   },
   {
    "duration": 374,
    "start_time": "2021-07-22T08:34:14.879Z"
   },
   {
    "duration": 28,
    "start_time": "2021-07-22T08:34:19.599Z"
   },
   {
    "duration": 354,
    "start_time": "2021-07-22T08:34:25.190Z"
   },
   {
    "duration": 342,
    "start_time": "2021-07-22T08:34:32.351Z"
   },
   {
    "duration": 26,
    "start_time": "2021-07-22T08:35:01.439Z"
   },
   {
    "duration": 27,
    "start_time": "2021-07-22T08:35:05.192Z"
   },
   {
    "duration": 275,
    "start_time": "2021-07-22T08:36:32.302Z"
   },
   {
    "duration": 390,
    "start_time": "2021-07-22T08:36:52.488Z"
   },
   {
    "duration": 297,
    "start_time": "2021-07-22T08:37:36.007Z"
   },
   {
    "duration": 60,
    "start_time": "2021-07-22T08:41:54.158Z"
   },
   {
    "duration": 15,
    "start_time": "2021-07-22T08:43:02.165Z"
   },
   {
    "duration": 26,
    "start_time": "2021-07-22T08:43:44.581Z"
   },
   {
    "duration": 24,
    "start_time": "2021-07-22T08:44:01.613Z"
   },
   {
    "duration": 16,
    "start_time": "2021-07-22T08:45:45.605Z"
   },
   {
    "duration": 31,
    "start_time": "2021-07-22T08:50:33.928Z"
   },
   {
    "duration": 15,
    "start_time": "2021-07-22T08:51:46.961Z"
   },
   {
    "duration": 24,
    "start_time": "2021-07-22T08:56:52.928Z"
   },
   {
    "duration": 35,
    "start_time": "2021-07-22T09:00:31.111Z"
   },
   {
    "duration": 33,
    "start_time": "2021-07-22T09:08:15.387Z"
   },
   {
    "duration": 364,
    "start_time": "2021-07-22T09:08:47.511Z"
   },
   {
    "duration": 363,
    "start_time": "2021-07-22T09:09:14.016Z"
   },
   {
    "duration": 344,
    "start_time": "2021-07-22T09:11:43.359Z"
   },
   {
    "duration": 25,
    "start_time": "2021-07-22T09:11:52.039Z"
   },
   {
    "duration": 578,
    "start_time": "2021-07-22T09:12:49.838Z"
   },
   {
    "duration": 28,
    "start_time": "2021-07-22T09:14:03.654Z"
   },
   {
    "duration": 339,
    "start_time": "2021-07-22T09:16:21.918Z"
   },
   {
    "duration": 365,
    "start_time": "2021-07-22T09:17:37.453Z"
   },
   {
    "duration": 341,
    "start_time": "2021-07-22T09:18:17.212Z"
   },
   {
    "duration": 37,
    "start_time": "2021-07-22T09:18:27.860Z"
   },
   {
    "duration": 354,
    "start_time": "2021-07-22T09:18:42.077Z"
   },
   {
    "duration": 379,
    "start_time": "2021-07-22T09:32:39.987Z"
   },
   {
    "duration": 24,
    "start_time": "2021-07-22T09:32:44.513Z"
   },
   {
    "duration": 355,
    "start_time": "2021-07-22T09:34:33.880Z"
   },
   {
    "duration": 361,
    "start_time": "2021-07-22T09:34:49.167Z"
   },
   {
    "duration": 1539,
    "start_time": "2021-07-22T09:35:04.824Z"
   },
   {
    "duration": 350,
    "start_time": "2021-07-22T09:37:37.040Z"
   },
   {
    "duration": 353,
    "start_time": "2021-07-22T09:37:55.040Z"
   },
   {
    "duration": 331,
    "start_time": "2021-07-22T09:38:51.167Z"
   },
   {
    "duration": 327,
    "start_time": "2021-07-22T09:39:14.184Z"
   },
   {
    "duration": 21,
    "start_time": "2021-07-22T09:39:29.608Z"
   },
   {
    "duration": 51,
    "start_time": "2021-07-22T09:44:41.382Z"
   },
   {
    "duration": 320,
    "start_time": "2021-07-22T10:00:25.387Z"
   },
   {
    "duration": 337,
    "start_time": "2021-07-22T10:00:48.482Z"
   },
   {
    "duration": 47,
    "start_time": "2021-07-22T10:03:20.753Z"
   },
   {
    "duration": 362,
    "start_time": "2021-07-22T10:05:05.792Z"
   },
   {
    "duration": 326,
    "start_time": "2021-07-22T10:05:24.313Z"
   },
   {
    "duration": 17,
    "start_time": "2021-07-22T10:05:34.256Z"
   },
   {
    "duration": 344,
    "start_time": "2021-07-22T10:06:49.792Z"
   },
   {
    "duration": 40,
    "start_time": "2021-07-22T10:08:02.647Z"
   },
   {
    "duration": 22,
    "start_time": "2021-07-22T10:13:25.045Z"
   },
   {
    "duration": 20,
    "start_time": "2021-07-22T10:16:04.379Z"
   },
   {
    "duration": 27,
    "start_time": "2021-07-22T10:17:11.188Z"
   },
   {
    "duration": 383,
    "start_time": "2021-07-22T10:18:59.692Z"
   },
   {
    "duration": 358,
    "start_time": "2021-07-22T10:19:15.380Z"
   },
   {
    "duration": 41,
    "start_time": "2021-07-22T10:20:32.268Z"
   },
   {
    "duration": 17,
    "start_time": "2021-07-22T10:23:42.545Z"
   },
   {
    "duration": 17,
    "start_time": "2021-07-22T10:23:55.426Z"
   },
   {
    "duration": 333,
    "start_time": "2021-07-22T10:24:37.619Z"
   },
   {
    "duration": 332,
    "start_time": "2021-07-22T10:24:48.659Z"
   },
   {
    "duration": 30,
    "start_time": "2021-07-22T10:26:10.458Z"
   },
   {
    "duration": 333,
    "start_time": "2021-07-22T10:26:20.346Z"
   },
   {
    "duration": 306,
    "start_time": "2021-07-22T10:27:50.666Z"
   },
   {
    "duration": 20,
    "start_time": "2021-07-22T10:27:59.234Z"
   },
   {
    "duration": 19,
    "start_time": "2021-07-22T10:29:07.873Z"
   },
   {
    "duration": 318,
    "start_time": "2021-07-22T10:29:48.281Z"
   },
   {
    "duration": 18,
    "start_time": "2021-07-22T10:29:53.473Z"
   },
   {
    "duration": 321,
    "start_time": "2021-07-22T10:30:09.218Z"
   },
   {
    "duration": 27,
    "start_time": "2021-07-22T10:30:19.941Z"
   },
   {
    "duration": 20,
    "start_time": "2021-07-22T10:31:05.737Z"
   },
   {
    "duration": 20,
    "start_time": "2021-07-22T10:31:33.473Z"
   },
   {
    "duration": 21,
    "start_time": "2021-07-22T10:32:31.824Z"
   },
   {
    "duration": 17,
    "start_time": "2021-07-22T10:35:21.272Z"
   },
   {
    "duration": 18,
    "start_time": "2021-07-22T10:35:29.967Z"
   }
  ],
  "kernelspec": {
   "display_name": "Python 3",
   "language": "python",
   "name": "python3"
  },
  "language_info": {
   "codemirror_mode": {
    "name": "ipython",
    "version": 3
   },
   "file_extension": ".py",
   "mimetype": "text/x-python",
   "name": "python",
   "nbconvert_exporter": "python",
   "pygments_lexer": "ipython3",
   "version": "3.8.5"
  },
  "toc": {
   "base_numbering": 1,
   "nav_menu": {},
   "number_sections": true,
   "sideBar": true,
   "skip_h1_title": true,
   "title_cell": "Table of Contents",
   "title_sidebar": "Contents",
   "toc_cell": false,
   "toc_position": {},
   "toc_section_display": true,
   "toc_window_display": false
  }
 },
 "nbformat": 4,
 "nbformat_minor": 4
}
